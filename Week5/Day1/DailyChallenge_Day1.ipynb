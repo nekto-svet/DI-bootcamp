{
 "cells": [
  {
   "cell_type": "code",
   "execution_count": 1,
   "id": "101c0a00",
   "metadata": {},
   "outputs": [],
   "source": [
    "import numpy as np"
   ]
  },
  {
   "cell_type": "code",
   "execution_count": 37,
   "id": "6a173e21",
   "metadata": {},
   "outputs": [
    {
     "data": {
      "text/plain": [
       "array([[82, 56,  9, 36, 77],\n",
       "       [ 4,  3, 67, 46, 52],\n",
       "       [66, 21, 58, 96,  5],\n",
       "       [25, 10, 23, 49, 16],\n",
       "       [13, 71, 85, 27,  4]])"
      ]
     },
     "execution_count": 37,
     "metadata": {},
     "output_type": "execute_result"
    }
   ],
   "source": [
    "data = np.array(np.random.randint(1, 100, size=25)).reshape(5,5)\n",
    "data"
   ]
  },
  {
   "cell_type": "code",
   "execution_count": 6,
   "id": "d8038463",
   "metadata": {},
   "outputs": [
    {
     "data": {
      "text/plain": [
       "array([[53, 17, 53,  9, 36],\n",
       "       [26, 74, 19, 86, 77],\n",
       "       [25, 82, 14,  5, 54],\n",
       "       [21, 40,  6, 51, 18],\n",
       "       [29, 57, 54, 42, 43]])"
      ]
     },
     "execution_count": 6,
     "metadata": {},
     "output_type": "execute_result"
    }
   ],
   "source": [
    "#Swap the second and fourth rows of the data matrix.\n",
    "data[[0,1,2,3,4]] = data[[3,1,2,0,4]]\n",
    "data"
   ]
  },
  {
   "cell_type": "code",
   "execution_count": 10,
   "id": "91274041",
   "metadata": {},
   "outputs": [
    {
     "data": {
      "text/plain": [
       "array([[0.59, 0.15, 0.59, 0.05, 0.38],\n",
       "       [0.26, 0.85, 0.17, 1.  , 0.89],\n",
       "       [0.25, 0.95, 0.11, 0.  , 0.6 ],\n",
       "       [0.2 , 0.43, 0.01, 0.57, 0.16],\n",
       "       [0.3 , 0.64, 0.6 , 0.46, 0.47]])"
      ]
     },
     "execution_count": 10,
     "metadata": {},
     "output_type": "execute_result"
    }
   ],
   "source": [
    "#Normalization\n",
    "normalized_data = (data - np.min(data)) / (np.max(data) - np.min(data))\n",
    "normalized_data.round(2)"
   ]
  },
  {
   "cell_type": "code",
   "execution_count": 11,
   "id": "3317c063",
   "metadata": {},
   "outputs": [
    {
     "data": {
      "text/plain": [
       "array([[ 0.57, -0.96,  0.57, -1.3 , -0.15],\n",
       "       [-0.58,  1.45, -0.87,  1.96,  1.58],\n",
       "       [-0.62,  1.79, -1.09, -1.47,  0.61],\n",
       "       [-0.79,  0.02, -1.42,  0.48, -0.92],\n",
       "       [-0.45,  0.74,  0.61,  0.1 ,  0.14]])"
      ]
     },
     "execution_count": 11,
     "metadata": {},
     "output_type": "execute_result"
    }
   ],
   "source": [
    "# Z-score normalization \n",
    "z_score_data = (data - np.mean(data)) / np.std(data)\n",
    "z_score_data.round(2)"
   ]
  },
  {
   "cell_type": "code",
   "execution_count": 12,
   "id": "c079d383",
   "metadata": {},
   "outputs": [
    {
     "data": {
      "text/plain": [
       "[array([53, 17, 53,  9, 36]),\n",
       " array([26, 74, 19, 86, 77]),\n",
       " array([25, 82, 14,  5, 54]),\n",
       " array([21, 40,  6, 51, 18]),\n",
       " array([29, 57, 54, 42, 43])]"
      ]
     },
     "execution_count": 12,
     "metadata": {},
     "output_type": "execute_result"
    }
   ],
   "source": [
    "# Array splitting - Reshape the data matrix into a vector \n",
    "# and split this array into five equal-sized sub-arrays.\n",
    "sub_arrays = np.split(np.ravel(data), 5)\n",
    "sub_arrays"
   ]
  },
  {
   "cell_type": "code",
   "execution_count": 13,
   "id": "4787fa1d",
   "metadata": {},
   "outputs": [
    {
     "data": {
      "text/plain": [
       "198"
      ]
     },
     "execution_count": 13,
     "metadata": {},
     "output_type": "execute_result"
    }
   ],
   "source": [
    "#Dot product - Create two vectors of size 5 with any values.\n",
    "# Compute the dot product of the two vectors*.\n",
    "v1 = np.array([3,5,6,7,8])\n",
    "v2 = np.array([2,4,6,8,10])\n",
    "dot_product = np.dot(v1, v2)\n",
    "dot_product \n",
    "# In example there is output = `562` but i don't understand why"
   ]
  },
  {
   "cell_type": "code",
   "execution_count": 14,
   "id": "2cf3245b",
   "metadata": {},
   "outputs": [
    {
     "data": {
      "text/plain": [
       "array([[615, 738, 861],\n",
       "       [574, 693, 812],\n",
       "       [572, 693, 814]])"
      ]
     },
     "execution_count": 14,
     "metadata": {},
     "output_type": "execute_result"
    }
   ],
   "source": [
    "# Matrix multiplication - Create another 3x3 matrix with any values (let’s call it data2).\n",
    "# Perform matrix multiplication (dot product of data (first 3x3 part) and data2).\n",
    "data1 = data[:3, :3]\n",
    "data2 = np.array([[2, 3, 4],\n",
    "                  [5, 6, 7],\n",
    "                  [8, 9, 10]])\n",
    "res = np.dot(data1, data2)\n",
    "res"
   ]
  },
  {
   "cell_type": "code",
   "execution_count": 15,
   "id": "412e564c",
   "metadata": {},
   "outputs": [
    {
     "data": {
      "text/plain": [
       "array([[0.5, 0. , 0. ],\n",
       "       [0. , 0.5, 0. ],\n",
       "       [0. , 0. , 0.5]])"
      ]
     },
     "execution_count": 15,
     "metadata": {},
     "output_type": "execute_result"
    }
   ],
   "source": [
    "#Create a 3x3 identity matrix*, multiply it with 2 and compute its inverse.\n",
    "matrix5 = np.eye(3)\n",
    "np.linalg.inv(matrix5*2)"
   ]
  },
  {
   "cell_type": "code",
   "execution_count": null,
   "id": "fce1d096",
   "metadata": {},
   "outputs": [],
   "source": [
    "#Replace random 5 elements in the data matrix with np.nan.\n",
    "# Find the indices of the missing values.\n",
    "\n",
    "data = data.astype('float') \n",
    "for i in range(6): data[np.random.randint(5), np.random.randint(5)] = np.nan\n",
    "data"
   ]
  },
  {
   "cell_type": "code",
   "execution_count": 35,
   "id": "e963adfb",
   "metadata": {},
   "outputs": [
    {
     "data": {
      "text/plain": [
       "(array([0, 0, 0, 0, 0, 1, 1, 1, 1, 1, 2, 2, 2, 2, 2, 3, 3, 3, 3, 3, 4, 4,\n",
       "        4, 4, 4], dtype=int64),\n",
       " array([0, 1, 2, 3, 4, 0, 1, 2, 3, 4, 0, 1, 2, 3, 4, 0, 1, 2, 3, 4, 0, 1,\n",
       "        2, 3, 4], dtype=int64))"
      ]
     },
     "execution_count": 35,
     "metadata": {},
     "output_type": "execute_result"
    }
   ],
   "source": [
    "indices = np.nonzero(data)\n",
    "indices "
   ]
  },
  {
   "cell_type": "code",
   "execution_count": 36,
   "id": "42238e81",
   "metadata": {},
   "outputs": [
    {
     "data": {
      "text/plain": [
       "array([[92. , 32. , 47. , 90. , 58. ],\n",
       "       [72. , 21. , 56. , 26. , 48. ],\n",
       "       [55.3, 55.3, 55.3, 67. , 87. ],\n",
       "       [48.5, 55.3, 68. , 48.5, 64. ],\n",
       "       [55.3, 76. , 48.5,  8. , 48.5]])"
      ]
     },
     "execution_count": 36,
     "metadata": {},
     "output_type": "execute_result"
    }
   ],
   "source": [
    "#  Replace the missing values in the data matrix with the mean of the matrix \n",
    "# (ignoring the missing values while computing the mean).\n",
    "data[np.isnan(data)] = np.nanmean(data)\n",
    "data"
   ]
  },
  {
   "cell_type": "code",
   "execution_count": null,
   "id": "8547cb66",
   "metadata": {},
   "outputs": [],
   "source": []
  }
 ],
 "metadata": {
  "kernelspec": {
   "display_name": "Python 3 (ipykernel)",
   "language": "python",
   "name": "python3"
  },
  "language_info": {
   "codemirror_mode": {
    "name": "ipython",
    "version": 3
   },
   "file_extension": ".py",
   "mimetype": "text/x-python",
   "name": "python",
   "nbconvert_exporter": "python",
   "pygments_lexer": "ipython3",
   "version": "3.11.5"
  }
 },
 "nbformat": 4,
 "nbformat_minor": 5
}
